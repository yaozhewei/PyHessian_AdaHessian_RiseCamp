{
 "cells": [
  {
   "cell_type": "markdown",
   "metadata": {},
   "source": [
    "Authors: Zhewei Yao <https://github.com/yaozhewei>, Amir Gholami <http://amirgholami.org/>\n",
    "\n",
    "\n",
    "This tutorial shows how to compute the Hessian information using (randomized) numerical linear algebra for both explicit Hessian (the matrix is given) as well as implicit Hessian (the matrix is ungiven).\n",
    "\n",
    "We'll start by doing the necessary imports:"
   ]
  },
  {
   "cell_type": "code",
   "execution_count": 1,
   "metadata": {},
   "outputs": [],
   "source": [
    "import numpy as np\n",
    "import torch \n",
    "from torchvision import datasets, transforms\n",
    "import matplotlib.pyplot as plt\n",
    "\n",
    "from pytorchcv.model_provider import get_model as ptcv_get_model # used to get pretrained model"
   ]
  },
  {
   "cell_type": "code",
   "execution_count": 2,
   "metadata": {},
   "outputs": [],
   "source": [
    "from utils import * # get the dataset\n",
    "from pyhessian import hessian # Hessian computation\n",
    "from density_plot import get_esd_plot # ESD plot\n",
    "\n",
    "\n",
    "%matplotlib inline"
   ]
  },
  {
   "cell_type": "code",
   "execution_count": 3,
   "metadata": {},
   "outputs": [],
   "source": [
    "# enable cuda devices\n",
    "import os\n",
    "os.environ[\"CUDA_DEVICE_ORDER\"]=\"PCI_BUS_ID\"\n",
    "os.environ[\"CUDA_VISIBLE_DEVICES\"]=\"0\""
   ]
  },
  {
   "cell_type": "markdown",
   "metadata": {},
   "source": [
    "## Example 1: Power Iteration with Numpy\n",
    "\n",
    "The following part shows how to use power iteration to get the top eigenvalue of a matrix without explicitly having access to it in numpy. We start by creating a random matrix B, compute its ground truth eigenvalues using numpy, and then compare the results with matrix-free power iteration (which does not need direct access to the matrix)."
   ]
  },
  {
   "cell_type": "code",
   "execution_count": 4,
   "metadata": {},
   "outputs": [],
   "source": [
    "n = 100 # the matrix size\n",
    "\n",
    "# generate a random matrix\n",
    "# diag = np.diag(np.random.rand(n)) * 100\n",
    "# A = np.random.randn(n, n)\n",
    "# q, _ = np.linalg.qr(A)\n",
    "# B = q.T @ diag @ q\n",
    "\n",
    "\n",
    "A = np.random.randn(n, n)\n",
    "B = A.T @ A"
   ]
  },
  {
   "cell_type": "markdown",
   "metadata": {},
   "source": [
    "Now let's use numpy to compute the ground truth eigenvalues. We will then check the results with this."
   ]
  },
  {
   "cell_type": "code",
   "execution_count": 5,
   "metadata": {},
   "outputs": [
    {
     "name": "stdout",
     "output_type": "stream",
     "text": [
      "The top eigenvalue of B is 389.7440\n"
     ]
    }
   ],
   "source": [
    "# use np.eigs to get the top eigenvalue of B\n",
    "eigs, _ = np.linalg.eig(B)\n",
    "print(\"The top eigenvalue of B is %.4f\" % np.sort(eigs)[-1])"
   ]
  },
  {
   "cell_type": "markdown",
   "metadata": {},
   "source": [
    "Now let's try to comptue the top eigenvalue of B without explicitly accessing B. To do so, we will use a method called Power Iteration:\n",
    "\n",
    "https://en.wikipedia.org/wiki/Power_iteration\n",
    "\n",
    "The algorithm is very simple and efficiet to compute the top eigenvalue:\n",
    "$$v_{i+1} = \\frac{Bv_i}{\\|Bv_i\\|}.$$\n",
    "\n",
    "As such, we only need to have access to the *application* of B to a given vector $v_i$ and not the matrix B itself. This application is commonly referred to as *matvec* in literature."
   ]
  },
  {
   "cell_type": "code",
   "execution_count": 6,
   "metadata": {},
   "outputs": [
    {
     "name": "stdout",
     "output_type": "stream",
     "text": [
      "Step  5 current estimated top eigvalue: 313.4102\n",
      "Step 10 current estimated top eigvalue: 341.4983\n",
      "Step 15 current estimated top eigvalue: 371.2982\n",
      "Step 20 current estimated top eigvalue: 385.2666\n",
      "Step 25 current estimated top eigvalue: 388.7611\n",
      "Step 30 current estimated top eigvalue: 389.5178\n",
      "Step 35 current estimated top eigvalue: 389.6864\n",
      "Step 40 current estimated top eigvalue: 389.7272\n",
      "Finished Power Iteration\n",
      "\n",
      "Ground Truth Top Eigenvalue: 389.7440\n",
      "Result with matrix-free Power Iteration: 389.7272. The relative error is 4.3e-05\n"
     ]
    }
   ],
   "source": [
    "# use power iteration to get the top eigenvalue of B\n",
    "v = np.random.randn(n, 1)\n",
    "for i in range(40):\n",
    "    v = v / np.linalg.norm(v)\n",
    "    eig_power_iteration = v.T @ B @ v\n",
    "    if (i + 1) % 5 == 0:\n",
    "        print(\"Step %2d current estimated top eigvalue: %.4f\" % (i+1,eig_power_iteration))\n",
    "    v = B @ v\n",
    "print(\"Finished Power Iteration\\n\")\n",
    "print(\"Ground Truth Top Eigenvalue: %.4f\" % np.sort(eigs)[-1])\n",
    "print(\"Result with matrix-free Power Iteration: %.4f. The relative error is %.1e\" \\\n",
    "      % (eig_power_iteration, abs(eig_power_iteration - np.sort(eigs)[-1]) / np.sort(eigs)[-1] ))"
   ]
  },
  {
   "cell_type": "markdown",
   "metadata": {},
   "source": [
    "As you can see the result of the power iteration and the one we got from numpy match very well.\n",
    "\n",
    "We can apply the same techinique for neural networks as well, and in particular use it to compute eigenvalues of Hessian!\n",
    "\n",
    "Importantly there has been a lot of misconception that we can not use Hessian for real world applications since\n",
    "we need to explicitly form it. Next you will see that this is not correct."
   ]
  },
  {
   "cell_type": "markdown",
   "metadata": {},
   "source": [
    "## Example 2: Power Iteration using PyHessian Library\n",
    "The follwoing part will introduce how to use PyHessian library to compute the top eigenvalue for a least sqaure problem, and compare the result computed by Numpy. "
   ]
  },
  {
   "cell_type": "code",
   "execution_count": 7,
   "metadata": {},
   "outputs": [],
   "source": [
    "n = 1000 # number of data points\n",
    "d = 100 # number of feature dimension\n",
    "\n",
    "beta = np.random.randn(d, 1) # generate the ground truth solution\n",
    "A = np.random.randn(n, d) # generate the input data\n",
    "y = A @ beta # generate the ground truth output \n",
    "\n",
    "init_beta = np.random.randn(d, 1)"
   ]
  },
  {
   "cell_type": "code",
   "execution_count": 8,
   "metadata": {},
   "outputs": [
    {
     "name": "stdout",
     "output_type": "stream",
     "text": [
      "The top eigenvalue of B is 3415.9960\n"
     ]
    }
   ],
   "source": [
    "# use np.eigs to get the top eigenvalue of least square problem \\|A init_beta - y\\|^2\n",
    "eigs, _ = np.linalg.eig(2 * A.T @ A)\n",
    "print(\"The top eigenvalue of B is %.4f\" % np.sort(eigs)[-1])"
   ]
  },
  {
   "cell_type": "code",
   "execution_count": 9,
   "metadata": {},
   "outputs": [],
   "source": [
    "# transer the problem to pytorch \n",
    "A_torch = torch.from_numpy(A).cuda().to(torch.cuda.FloatTensor())\n",
    "y_torch = torch.from_numpy(y).cuda().to(torch.cuda.FloatTensor())\n",
    "\n",
    "init_beta_torch = torch.from_numpy(init_beta).cuda().to(torch.cuda.FloatTensor())\n",
    "init_beta_torch.requires_grad = True"
   ]
  },
  {
   "cell_type": "code",
   "execution_count": 10,
   "metadata": {},
   "outputs": [],
   "source": [
    "# define the model\n",
    "\n",
    "class ls_model(torch.nn.Module):\n",
    "    def __init__(self, param):\n",
    "        super(ls_model, self).__init__()\n",
    "        self.beta = nn.Linear(1, d, bias=False)\n",
    "        self.beta.weight.data = param.t()\n",
    "    def forward(self, x):\n",
    "        return self.beta(x)\n",
    "    \n",
    "model = ls_model(init_beta_torch)"
   ]
  },
  {
   "cell_type": "code",
   "execution_count": 11,
   "metadata": {},
   "outputs": [],
   "source": [
    "# define loss function\n",
    "criterion = torch.nn.MSELoss(reduction='sum')"
   ]
  },
  {
   "cell_type": "code",
   "execution_count": 12,
   "metadata": {},
   "outputs": [],
   "source": [
    "from pyhessian import hessian # Hessian computation"
   ]
  },
  {
   "cell_type": "code",
   "execution_count": 13,
   "metadata": {},
   "outputs": [],
   "source": [
    "# create the hessian computation module\n",
    "hessian_comp = hessian(model, criterion, data=(A_torch, y_torch), cuda=True)"
   ]
  },
  {
   "cell_type": "code",
   "execution_count": 16,
   "metadata": {},
   "outputs": [
    {
     "name": "stdout",
     "output_type": "stream",
     "text": [
      "The top Hessian eigenvalue of this model is 3381.5845. Relative error is: 1.0e-02\n"
     ]
    }
   ],
   "source": [
    "# Now let's compute the top eigenvalue using PyHessian\n",
    "top_eigenvalues, top_eigenvector = hessian_comp.eigenvalues()\n",
    "print(\"The top Hessian eigenvalue of this model is %.4f. Relative error is: %.1e\" \\\n",
    "      % (top_eigenvalues[-1], abs(top_eigenvalues[-1]-np.sort(eigs)[-1]) / np.sort(eigs)[-1]) )"
   ]
  },
  {
   "cell_type": "markdown",
   "metadata": {},
   "source": [
    "## Example 3: Power Iteration for NN Hessian\n",
    "Now, let's see how to use PyHessian library to compute the top eigenvalue of NNs."
   ]
  },
  {
   "cell_type": "code",
   "execution_count": 17,
   "metadata": {},
   "outputs": [
    {
     "name": "stdout",
     "output_type": "stream",
     "text": [
      "Files already downloaded and verified\n"
     ]
    }
   ],
   "source": [
    "# get the model \n",
    "model = ptcv_get_model(\"resnet20_cifar10\", pretrained=True)\n",
    "# change the model to eval mode to disable running stats upate\n",
    "model.eval()\n",
    "\n",
    "# create loss function\n",
    "criterion = torch.nn.CrossEntropyLoss()\n",
    "\n",
    "# get dataset \n",
    "train_loader, test_loader = getData()\n",
    "\n",
    "# for illustrate, we only use one batch to do the tutorial\n",
    "for inputs, targets in train_loader:\n",
    "    break\n",
    "\n",
    "# we use cuda to make the computation fast\n",
    "model = model.cuda()\n",
    "inputs, targets = inputs.cuda(), targets.cuda()\n",
    "\n"
   ]
  },
  {
   "cell_type": "code",
   "execution_count": 18,
   "metadata": {},
   "outputs": [],
   "source": [
    "# create the hessian computation module\n",
    "hessian_comp = hessian(model, criterion, data=(inputs, targets), cuda=True)"
   ]
  },
  {
   "cell_type": "code",
   "execution_count": 19,
   "metadata": {},
   "outputs": [
    {
     "name": "stdout",
     "output_type": "stream",
     "text": [
      "The top Hessian eigenvalue of this model is 150.3149\n"
     ]
    }
   ],
   "source": [
    "# Now let's compute the top eigenvalue. This only takes a few seconds.\n",
    "top_eigenvalues, top_eigenvector = hessian_comp.eigenvalues()\n",
    "print(\"The top Hessian eigenvalue of this model is %.4f\"%top_eigenvalues[-1])"
   ]
  },
  {
   "cell_type": "code",
   "execution_count": 20,
   "metadata": {},
   "outputs": [
    {
     "name": "stdout",
     "output_type": "stream",
     "text": [
      "The top two eigenvalues of this model are: 93.9245 150.1178\n"
     ]
    }
   ],
   "source": [
    "# Now let's compute the top 2 eigenavlues and eigenvectors of the Hessian\n",
    "top_eigenvalues, top_eigenvector = hessian_comp.eigenvalues(top_n=2)\n",
    "print(\"The top two eigenvalues of this model are: %.4f %.4f\"% (top_eigenvalues[-1],top_eigenvalues[-2]))"
   ]
  },
  {
   "cell_type": "markdown",
   "metadata": {},
   "source": [
    "The small difference between this top eigenvalue and the previous one is due to the small number of iterations that we used in Power iteration. You can remove this small difference by increasing the number of iterations for power iteration."
   ]
  },
  {
   "cell_type": "markdown",
   "metadata": {},
   "source": [
    "## Example 3.1: Plot Loss Landscape\n",
    "\n",
    "We can use the Hessian eigenvectors/eigenvalues to analyze the flat/sharpness of the loss landscape of your model, and plot the loss landscape. We will show that this can be more informative than using random directions.\n",
    "\n",
    "To plot the loss landscape, we first compute the top Hessian eigenvector and then perturb the model parameters along that direction and measure the loss."
   ]
  },
  {
   "cell_type": "code",
   "execution_count": 21,
   "metadata": {},
   "outputs": [],
   "source": [
    "# get the top eigenvector\n",
    "top_eigenvalues, top_eigenvector = hessian_comp.eigenvalues()"
   ]
  },
  {
   "cell_type": "code",
   "execution_count": 22,
   "metadata": {},
   "outputs": [],
   "source": [
    "# This is a simple function, that will allow us to perturb the model paramters and get the result\n",
    "def get_params(model_orig,  model_perb, direction, alpha):\n",
    "    for m_orig, m_perb, d in zip(model_orig.parameters(), model_perb.parameters(), direction):\n",
    "        m_perb.data = m_orig.data + alpha * d\n",
    "    return model_perb"
   ]
  },
  {
   "cell_type": "code",
   "execution_count": 23,
   "metadata": {},
   "outputs": [
    {
     "data": {
      "text/plain": [
       "Text(0.5, 1.0, 'Loss landscape perturbed based on top Hessian eigenvector')"
      ]
     },
     "execution_count": 23,
     "metadata": {},
     "output_type": "execute_result"
    },
    {
     "data": {
      "image/png": "[encoded data removed]",
      "text/plain": [
       "<Figure size 432x288 with 1 Axes>"
      ]
     },
     "metadata": {
      "needs_background": "light"
     },
     "output_type": "display_data"
    }
   ],
   "source": [
    "# lambda is a small scalar that we use to perturb the model parameters along the eigenvectors \n",
    "lams = np.linspace(-0.5, 0.5, 21).astype(np.float32)\n",
    "\n",
    "loss_list = []\n",
    "\n",
    "# create a copy of the model\n",
    "model_perb = ptcv_get_model(\"resnet20_cifar10\", pretrained=True)\n",
    "model_perb.eval()\n",
    "model_perb = model_perb.cuda()\n",
    "\n",
    "for lam in lams:\n",
    "    model_perb = get_params(model, model_perb, top_eigenvector[0], lam)\n",
    "    loss_list.append(criterion(model_perb(inputs), targets).item())\n",
    "\n",
    "plt.plot(lams, loss_list)\n",
    "plt.ylabel('Loss', fontsize=16)\n",
    "plt.xlabel('Perturbation', fontsize=16)\n",
    "plt.title('Loss landscape perturbed based on top Hessian eigenvector', fontsize=16)"
   ]
  },
  {
   "cell_type": "markdown",
   "metadata": {},
   "source": [
    "Now let's compare this with a loss landscape computed based on perturbing the model parameters along a random direction."
   ]
  },
  {
   "cell_type": "code",
   "execution_count": 24,
   "metadata": {},
   "outputs": [
    {
     "data": {
      "text/plain": [
       "Text(0.5, 1.0, 'Loss landscape perturbed based on a random direction')"
      ]
     },
     "execution_count": 24,
     "metadata": {},
     "output_type": "execute_result"
    },
    {
     "data": {
      "image/png": "[encoded data removed]",
      "text/plain": [
       "<Figure size 432x288 with 1 Axes>"
      ]
     },
     "metadata": {
      "needs_background": "light"
     },
     "output_type": "display_data"
    }
   ],
   "source": [
    "from pyhessian.utils import normalization\n",
    "\n",
    "# generate random vector to do the loss plot\n",
    "\n",
    "v = [torch.randn_like(p) for p in model.parameters()]\n",
    "v = normalization(v)\n",
    "\n",
    "\n",
    "# used to perturb your model \n",
    "lams = np.linspace(-0.5, 0.5, 21).astype(np.float32)\n",
    "\n",
    "loss_list = []\n",
    "\n",
    "# create a copy of the model\n",
    "model_perb = ptcv_get_model(\"resnet20_cifar10\", pretrained=True)\n",
    "model_perb.eval()\n",
    "model_perb = model_perb.cuda()\n",
    "\n",
    "for lam in lams: \n",
    "    model_perb = get_params(model, model_perb, v, lam)\n",
    "    loss_list.append(criterion(model_perb(inputs), targets).item())\n",
    "\n",
    "plt.plot(lams, loss_list)\n",
    "plt.ylabel('Loss', fontsize=16)\n",
    "plt.xlabel('Perturbation', fontsize=16)\n",
    "plt.title('Loss landscape perturbed based on a random direction', fontsize=16)"
   ]
  },
  {
   "cell_type": "markdown",
   "metadata": {},
   "source": [
    "Note how different the loss landscape looks. In particular note that there is almost no change in the loss value (see the small scale of the y-axis). This is expected, since for a converged NN, many of the directions are typically degenarate (i.e. they are flat)."
   ]
  },
  {
   "cell_type": "markdown",
   "metadata": {},
   "source": [
    "## Example 4: Hessian Trace/Diagonal with Numpy\n",
    "\n",
    "We can also use randomized linear algebra to compute Hessian trace or approximate the Hessian diagonal with very little computational overhead. Let's first start with a numpy example, and then we will show results for a NN."
   ]
  },
  {
   "cell_type": "code",
   "execution_count": 26,
   "metadata": {},
   "outputs": [],
   "source": [
    "n = 1000 # the matrix size\n",
    "\n",
    "# generate the matrix\n",
    "A = np.random.randn(n, n)\n",
    "B = A @ A.T"
   ]
  },
  {
   "cell_type": "code",
   "execution_count": 27,
   "metadata": {},
   "outputs": [
    {
     "name": "stdout",
     "output_type": "stream",
     "text": [
      "The trace of B is: 999480.8988\n"
     ]
    }
   ],
   "source": [
    "# Direct get the trace \n",
    "trace_B_np = np.matrix.trace(B)\n",
    "print(\"The trace of B is: %.4f\"%trace_B_np)"
   ]
  },
  {
   "cell_type": "markdown",
   "metadata": {},
   "source": [
    "We can approximate the above by using Hutchinson Method. It is very similar to power iteration:\n",
    "\n",
    "$$Tr(B) = \\mathbb{E}[v^TBv],$$\n",
    "$$Diag(B) = \\mathbb{E}[v \\bigodot Bv].$$\n",
    "\n",
    "It can be proved that the above expectation converges with smallest variance to the trace if we use Rademacher random numbers (+/-1). In practice you can also use Gaussian random vectors as well."
   ]
  },
  {
   "cell_type": "code",
   "execution_count": 32,
   "metadata": {},
   "outputs": [
    {
     "name": "stdout",
     "output_type": "stream",
     "text": [
      "Step 05, Current estimated trace: 962650.2 relative error: 3.7e-02\n",
      "Step 10, Current estimated trace: 975413.4 relative error: 2.4e-02\n",
      "Step 15, Current estimated trace: 987569.3 relative error: 1.2e-02\n",
      "Step 20, Current estimated trace: 992606.1 relative error: 6.9e-03\n",
      "Step 25, Current estimated trace: 992113.6 relative error: 7.4e-03\n",
      "Step 30, Current estimated trace: 994583.7 relative error: 4.9e-03\n",
      "Step 35, Current estimated trace: 999676.9 relative error: 2.0e-04\n",
      "Step 40, Current estimated trace: 999377.7 relative error: 1.0e-04\n"
     ]
    }
   ],
   "source": [
    "# use Hutchinson method to get the trace of B\n",
    "trace_list = []\n",
    "\n",
    "for i in range(40):\n",
    "    v = np.random.randint(2, size=n) \n",
    "    v = v.reshape(n, 1) * 2 - 1 # Create Rademacher random numbers\n",
    "    trace_list.append(v.T @ B @ v)\n",
    "    trace_B_hutchinson = np.mean(trace_list)\n",
    "    if (i + 1) % 5 == 0:\n",
    "        print(\"Step %.2d, Current estimated trace: %.1f relative error: %.1e\"\n",
    "              %(i+1, trace_B_hutchinson, abs(trace_B_hutchinson - trace_B_np) / trace_B_np))"
   ]
  },
  {
   "cell_type": "markdown",
   "metadata": {},
   "source": [
    "As you can see we can get a very accurate estimate of the trace. Next let's try to approximate the diagonal of B using the matrix-free Hutchinson's method."
   ]
  },
  {
   "cell_type": "code",
   "execution_count": 33,
   "metadata": {},
   "outputs": [
    {
     "name": "stdout",
     "output_type": "stream",
     "text": [
      "Step 05, the current average relative error 3.7e-01:\n",
      "Step 10, the current average relative error 2.6e-01:\n",
      "Step 15, the current average relative error 2.1e-01:\n",
      "Step 20, the current average relative error 1.8e-01:\n"
     ]
    }
   ],
   "source": [
    "# use Hutchinson method to get the diag of B\n",
    "diag_est = np.zeros([n, 1])\n",
    "diag_B_np = np.diag(B)\n",
    "for i in range(20):\n",
    "    v = np.random.randint(2, size=n)\n",
    "    v = v.reshape(n, 1) * 2 - 1\n",
    "    diag_est += np.multiply(v, (B @ v))\n",
    "    diag_est_err = np.mean(np.abs(diag_est.reshape(-1) / (i+1) - diag_B_np) / diag_B_np)\n",
    "    if (i + 1) % 5 == 0:\n",
    "        print(\"Step %.2d, the current average relative error %.1e:\"%(i+1, diag_est_err))"
   ]
  },
  {
   "cell_type": "markdown",
   "metadata": {},
   "source": [
    "## Example 5: Hessian Trace/Diagonal with PyHessian\n",
    "Now let's repeate the above for computing the trace and diagonal of Hessian for ResNet20."
   ]
  },
  {
   "cell_type": "code",
   "execution_count": 34,
   "metadata": {},
   "outputs": [
    {
     "name": "stdout",
     "output_type": "stream",
     "text": [
      "Files already downloaded and verified\n"
     ]
    }
   ],
   "source": [
    "# get the model \n",
    "model = ptcv_get_model(\"resnet20_cifar10\", pretrained=True)\n",
    "# change the model to eval mode to disable running stats upate\n",
    "model.eval()\n",
    "\n",
    "# create loss function\n",
    "criterion = torch.nn.CrossEntropyLoss()\n",
    "\n",
    "# get dataset \n",
    "train_loader, test_loader = getData()\n",
    "\n",
    "# for illustrate, we only use one batch to do the tutorial\n",
    "for inputs, targets in train_loader:\n",
    "    break\n",
    "\n",
    "# we use cuda to make the computation fast\n",
    "model = model.cuda()\n",
    "inputs, targets = inputs.cuda(), targets.cuda()"
   ]
  },
  {
   "cell_type": "code",
   "execution_count": 35,
   "metadata": {},
   "outputs": [],
   "source": [
    "# create the hessian computation module\n",
    "hessian_comp = hessian(model, criterion, data=(inputs, targets), cuda=True)"
   ]
  },
  {
   "cell_type": "code",
   "execution_count": 36,
   "metadata": {},
   "outputs": [
    {
     "name": "stdout",
     "output_type": "stream",
     "text": [
      "The trace of this model is: 848.5541\n"
     ]
    }
   ],
   "source": [
    "trace = hessian_comp.trace()\n",
    "print(\"The trace of this model is: %.4f\"%(np.mean(trace)))"
   ]
  },
  {
   "cell_type": "markdown",
   "metadata": {},
   "source": [
    "## Example 6: Full spectrum density of Hessian with PyHessian\n",
    "We can also get the full eigenvalue spectrum density of Hessian using Stochastic Lancoz algorithm."
   ]
  },
  {
   "cell_type": "code",
   "execution_count": 37,
   "metadata": {},
   "outputs": [],
   "source": [
    "density_eigen, density_weight = hessian_comp.density()"
   ]
  },
  {
   "cell_type": "code",
   "execution_count": 38,
   "metadata": {},
   "outputs": [
    {
     "data": {
      "image/png": "[encoded data removed]",
      "text/plain": [
       "<Figure size 432x288 with 1 Axes>"
      ]
     },
     "metadata": {
      "needs_background": "light"
     },
     "output_type": "display_data"
    }
   ],
   "source": [
    "get_esd_plot(density_eigen, density_weight)"
   ]
  },
  {
   "cell_type": "markdown",
   "metadata": {},
   "source": [
    "The above ESD plot is very interesting and shows that a lot of the eigenvalues of the Hessian are close to zero. This means that a lot of the directions along the loss landscape is almost flat. We expect this based on the loss landscape that we got above when we used a random direction. Another interesting observation is that there are several large Hessian outliers. The other very interesting finding, is that there are a lot of directions with slight negative curvature. This means that we still have not converged to a perfect local minimum that satisfies first and second order optimality conditions."
   ]
  }
 ],
 "metadata": {
  "kernelspec": {
   "display_name": "Python 3",
   "language": "python",
   "name": "python3"
  },
  "language_info": {
   "codemirror_mode": {
    "name": "ipython",
    "version": 3
   },
   "file_extension": ".py",
   "mimetype": "text/x-python",
   "name": "python",
   "nbconvert_exporter": "python",
   "pygments_lexer": "ipython3",
   "version": "3.7.1"
  }
 },
 "nbformat": 4,
 "nbformat_minor": 4
}
